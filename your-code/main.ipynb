{
 "cells": [
  {
   "cell_type": "markdown",
   "metadata": {
    "id": "-M3QFIFrKdPt"
   },
   "source": [
    "# Installing Spotipy"
   ]
  },
  {
   "cell_type": "code",
   "execution_count": 1,
   "metadata": {
    "colab": {
     "base_uri": "https://localhost:8080/"
    },
    "executionInfo": {
     "elapsed": 5245,
     "status": "ok",
     "timestamp": 1623745902730,
     "user": {
      "displayName": "Ignacio Soteras",
      "photoUrl": "",
      "userId": "02050793736257155229"
     },
     "user_tz": -120
    },
    "id": "tis_6tTpKY1Z",
    "outputId": "adfb4763-04d9-4b55-b0d8-c5e317263072"
   },
   "outputs": [],
   "source": [
    "##!conda install -c conda-forge spotipy"
   ]
  },
  {
   "cell_type": "markdown",
   "metadata": {
    "id": "fnhh4ayEOKz4"
   },
   "source": [
    "## Loading credentials from the config file"
   ]
  },
  {
   "cell_type": "markdown",
   "metadata": {},
   "source": [
    "#### Make sure that you have stored your spotify client_id and client_secret in a separate config.py file\n",
    "#### Once that's done, we import it"
   ]
  },
  {
   "cell_type": "code",
   "execution_count": 2,
   "metadata": {},
   "outputs": [],
   "source": [
    "import dotenv\n",
    "import os\n",
    "dotenv.load_dotenv()\n",
    "\n",
    "client_id = os.getenv(\"my_client_id\")\n",
    "client_secret = os.getenv(\"my_client_secret\")\n"
   ]
  },
  {
   "cell_type": "markdown",
   "metadata": {
    "id": "0fpGWmsCOSx0"
   },
   "source": [
    "## Starting with Spotify API"
   ]
  },
  {
   "cell_type": "code",
   "execution_count": 3,
   "metadata": {
    "ExecuteTime": {
     "end_time": "2022-11-23T08:53:27.060562Z",
     "start_time": "2022-11-23T08:53:26.974725Z"
    },
    "colab": {
     "base_uri": "https://localhost:8080/"
    },
    "executionInfo": {
     "elapsed": 313,
     "status": "ok",
     "timestamp": 1623747121467,
     "user": {
      "displayName": "Ignacio Soteras",
      "photoUrl": "",
      "userId": "02050793736257155229"
     },
     "user_tz": -120
    },
    "id": "-0qiqFTZqqE2",
    "outputId": "c532baae-8ff5-4abc-b70e-0bda934d25b1"
   },
   "outputs": [
    {
     "data": {
      "text/plain": [
       "<spotipy.client.Spotify at 0x25b3af7e270>"
      ]
     },
     "execution_count": 3,
     "metadata": {},
     "output_type": "execute_result"
    }
   ],
   "source": [
    "import spotipy\n",
    "import pandas as pd\n",
    "import json\n",
    "from spotipy.oauth2 import SpotifyClientCredentials\n",
    "\n",
    "\n",
    "#Initialize SpotiPy with user credentials\n",
    "client_credentials_manager = SpotifyClientCredentials(client_id=client_id, client_secret=client_secret)\n",
    "sp = spotipy.Spotify(client_credentials_manager=client_credentials_manager)\n",
    "\n",
    "sp"
   ]
  },
  {
   "cell_type": "code",
   "execution_count": 4,
   "metadata": {},
   "outputs": [],
   "source": [
    "import pprint"
   ]
  },
  {
   "cell_type": "code",
   "execution_count": 5,
   "metadata": {},
   "outputs": [
    {
     "name": "stdout",
     "output_type": "stream",
     "text": [
      "{'album': {'album_type': 'album',\n",
      "           'artists': [{'external_urls': {'spotify': 'https://open.spotify.com/artist/0z5DFXmhT4ZNzWElsM7V89'},\n",
      "                        'href': 'https://api.spotify.com/v1/artists/0z5DFXmhT4ZNzWElsM7V89',\n",
      "                        'id': '0z5DFXmhT4ZNzWElsM7V89',\n",
      "                        'name': 'Erasure',\n",
      "                        'type': 'artist',\n",
      "                        'uri': 'spotify:artist:0z5DFXmhT4ZNzWElsM7V89'}],\n",
      "           'available_markets': ['CA', 'MX', 'US'],\n",
      "           'external_urls': {'spotify': 'https://open.spotify.com/album/0uaWkEMT1CkmXZCkVeTJ6R'},\n",
      "           'href': 'https://api.spotify.com/v1/albums/0uaWkEMT1CkmXZCkVeTJ6R',\n",
      "           'id': '0uaWkEMT1CkmXZCkVeTJ6R',\n",
      "           'images': [{'height': 640,\n",
      "                       'url': 'https://i.scdn.co/image/ab67616d0000b273dbc95bf2916cb9ae36b12567',\n",
      "                       'width': 640},\n",
      "                      {'height': 300,\n",
      "                       'url': 'https://i.scdn.co/image/ab67616d00001e02dbc95bf2916cb9ae36b12567',\n",
      "                       'width': 300},\n",
      "                      {'height': 64,\n",
      "                       'url': 'https://i.scdn.co/image/ab67616d00004851dbc95bf2916cb9ae36b12567',\n",
      "                       'width': 64}],\n",
      "           'name': 'The Circus',\n",
      "           'release_date': '1987-04-15',\n",
      "           'release_date_precision': 'day',\n",
      "           'total_tracks': 13,\n",
      "           'type': 'album',\n",
      "           'uri': 'spotify:album:0uaWkEMT1CkmXZCkVeTJ6R'},\n",
      " 'artists': [{'external_urls': {'spotify': 'https://open.spotify.com/artist/0z5DFXmhT4ZNzWElsM7V89'},\n",
      "              'href': 'https://api.spotify.com/v1/artists/0z5DFXmhT4ZNzWElsM7V89',\n",
      "              'id': '0z5DFXmhT4ZNzWElsM7V89',\n",
      "              'name': 'Erasure',\n",
      "              'type': 'artist',\n",
      "              'uri': 'spotify:artist:0z5DFXmhT4ZNzWElsM7V89'}],\n",
      " 'available_markets': ['CA', 'MX', 'US'],\n",
      " 'disc_number': 1,\n",
      " 'duration_ms': 235706,\n",
      " 'explicit': False,\n",
      " 'external_ids': {'isrc': 'GBAJH0100072'},\n",
      " 'external_urls': {'spotify': 'https://open.spotify.com/track/66yZsiWIpBUl4OJBzE76RK'},\n",
      " 'href': 'https://api.spotify.com/v1/tracks/66yZsiWIpBUl4OJBzE76RK',\n",
      " 'id': '66yZsiWIpBUl4OJBzE76RK',\n",
      " 'is_local': False,\n",
      " 'name': \"It Doesn't Have to Be\",\n",
      " 'popularity': 26,\n",
      " 'preview_url': None,\n",
      " 'track_number': 1,\n",
      " 'type': 'track',\n",
      " 'uri': 'spotify:track:66yZsiWIpBUl4OJBzE76RK'}\n"
     ]
    }
   ],
   "source": [
    "track = sp.track(\"66yZsiWIpBUl4OJBzE76RK\")\n",
    "data = pprint.pprint(track)"
   ]
  },
  {
   "cell_type": "code",
   "execution_count": 6,
   "metadata": {},
   "outputs": [
    {
     "name": "stdout",
     "output_type": "stream",
     "text": [
      "It Doesn't Have to Be\n",
      "Erasure\n",
      "The Circus\n"
     ]
    }
   ],
   "source": [
    "# Access specific fields\n",
    "print(track['name'])          # Track name\n",
    "print(track['artists'][0]['name'])  # First artist's name\n",
    "print(track['album']['name']) # Album name"
   ]
  },
  {
   "cell_type": "markdown",
   "metadata": {
    "id": "wlYAUHZMGEPp"
   },
   "source": [
    "# Understanding the json"
   ]
  },
  {
   "cell_type": "code",
   "execution_count": 12,
   "metadata": {
    "colab": {
     "base_uri": "https://localhost:8080/"
    },
    "executionInfo": {
     "elapsed": 336,
     "status": "ok",
     "timestamp": 1623748232522,
     "user": {
      "displayName": "Ignacio Soteras",
      "photoUrl": "",
      "userId": "02050793736257155229"
     },
     "user_tz": -120
    },
    "id": "gQzoV9fjEbm6",
    "outputId": "0747fac5-b2f5-44a0-a9cd-393ed3196cbf",
    "scrolled": true
   },
   "outputs": [
    {
     "data": {
      "text/plain": [
       "'{\"album\": {\"album_type\": \"album\", \"artists\": [{\"external_urls\": {\"spotify\": \"https://open.spotify.com/artist/0z5DFXmhT4ZNzWElsM7V89\"}, \"href\": \"https://api.spotify.com/v1/artists/0z5DFXmhT4ZNzWElsM7V89\", \"id\": \"0z5DFXmhT4ZNzWElsM7V89\", \"name\": \"Erasure\", \"type\": \"artist\", \"uri\": \"spotify:artist:0z5DFXmhT4ZNzWElsM7V89\"}], \"available_markets\": [\"CA\", \"MX\", \"US\"], \"external_urls\": {\"spotify\": \"https://open.spotify.com/album/0uaWkEMT1CkmXZCkVeTJ6R\"}, \"href\": \"https://api.spotify.com/v1/albums/0uaWkEMT1CkmXZCkVeTJ6R\", \"id\": \"0uaWkEMT1CkmXZCkVeTJ6R\", \"images\": [{\"url\": \"https://i.scdn.co/image/ab67616d0000b273dbc95bf2916cb9ae36b12567\", \"width\": 640, \"height\": 640}, {\"url\": \"https://i.scdn.co/image/ab67616d00001e02dbc95bf2916cb9ae36b12567\", \"width\": 300, \"height\": 300}, {\"url\": \"https://i.scdn.co/image/ab67616d00004851dbc95bf2916cb9ae36b12567\", \"width\": 64, \"height\": 64}], \"name\": \"The Circus\", \"release_date\": \"1987-04-15\", \"release_date_precision\": \"day\", \"total_tracks\": 13, \"type\": \"album\", \"uri\": \"spotify:album:0uaWkEMT1CkmXZCkVeTJ6R\"}, \"artists\": [{\"external_urls\": {\"spotify\": \"https://open.spotify.com/artist/0z5DFXmhT4ZNzWElsM7V89\"}, \"href\": \"https://api.spotify.com/v1/artists/0z5DFXmhT4ZNzWElsM7V89\", \"id\": \"0z5DFXmhT4ZNzWElsM7V89\", \"name\": \"Erasure\", \"type\": \"artist\", \"uri\": \"spotify:artist:0z5DFXmhT4ZNzWElsM7V89\"}], \"available_markets\": [\"CA\", \"MX\", \"US\"], \"disc_number\": 1, \"duration_ms\": 235706, \"explicit\": false, \"external_ids\": {\"isrc\": \"GBAJH0100072\"}, \"external_urls\": {\"spotify\": \"https://open.spotify.com/track/66yZsiWIpBUl4OJBzE76RK\"}, \"href\": \"https://api.spotify.com/v1/tracks/66yZsiWIpBUl4OJBzE76RK\", \"id\": \"66yZsiWIpBUl4OJBzE76RK\", \"is_local\": false, \"name\": \"It Doesn\\'t Have to Be\", \"popularity\": 26, \"preview_url\": null, \"track_number\": 1, \"type\": \"track\", \"uri\": \"spotify:track:66yZsiWIpBUl4OJBzE76RK\"}'"
      ]
     },
     "execution_count": 12,
     "metadata": {},
     "output_type": "execute_result"
    }
   ],
   "source": [
    "# understanding the json structure\n",
    "data = json.dumps(track)\n",
    "data"
   ]
  },
  {
   "cell_type": "markdown",
   "metadata": {
    "id": "ma33RhJ3GyyD"
   },
   "source": [
    "## Other Info"
   ]
  },
  {
   "cell_type": "code",
   "execution_count": null,
   "metadata": {
    "colab": {
     "base_uri": "https://localhost:8080/",
     "height": 35
    },
    "executionInfo": {
     "elapsed": 314,
     "status": "ok",
     "timestamp": 1623748532709,
     "user": {
      "displayName": "Ignacio Soteras",
      "photoUrl": "",
      "userId": "02050793736257155229"
     },
     "user_tz": -120
    },
    "id": "rpRcNkuhG1Ht",
    "outputId": "bb6cc417-17bd-404f-d31c-302a97bf9ffe"
   },
   "outputs": [
    {
     "name": "stdout",
     "output_type": "stream",
     "text": [
      "                    name   artist       album  popularity\n",
      "0        Heavenly Action  Erasure  Wonderland          19\n",
      "1  It Doesn't Have to Be  Erasure  The Circus          26\n"
     ]
    }
   ],
   "source": [
    "tracks = [sp.track(\"2vTjXsdRHEbTdT9HgeA2nv\"), sp.track(\"66yZsiWIpBUl4OJBzE76RK\")]\n",
    "\n",
    "# Extract desired fields\n",
    "data = []\n",
    "for t in tracks:\n",
    "    data.append({\n",
    "        'name': t['name'],\n",
    "        'artist': t['artists'][0]['name'],\n",
    "        'album': t['album']['name'],\n",
    "        'popularity': t['popularity']\n",
    "    })\n",
    "\n",
    "df = pd.DataFrame(data)\n",
    "print(df)"
   ]
  },
  {
   "cell_type": "markdown",
   "metadata": {},
   "source": [
    "## Getting the track_id"
   ]
  },
  {
   "cell_type": "code",
   "execution_count": null,
   "metadata": {},
   "outputs": [
    {
     "name": "stdout",
     "output_type": "stream",
     "text": [
      "Track ID: 6E5aSUFARF9jkgCsphkEDV\n"
     ]
    }
   ],
   "source": [
    "results = sp.search(q=\"Heavenly Action\", type='track', limit=1)\n",
    "track_id = results['tracks']['items'][0]['id']\n",
    "print(\"Track ID:\", track_id)"
   ]
  },
  {
   "cell_type": "markdown",
   "metadata": {},
   "source": [
    "## Embedded track player"
   ]
  },
  {
   "cell_type": "code",
   "execution_count": null,
   "metadata": {},
   "outputs": [],
   "source": [
    "from IPython.display import IFrame\n"
   ]
  },
  {
   "cell_type": "code",
   "execution_count": null,
   "metadata": {},
   "outputs": [
    {
     "data": {
      "text/html": [
       "\n",
       "        <iframe\n",
       "            width=\"300\"\n",
       "            height=\"80\"\n",
       "            src=\"https://open.spotify.com/embed/track/2vTjXsdRHEbTdT9HgeA2nv\"\n",
       "            frameborder=\"0\"\n",
       "            allowfullscreen\n",
       "            \n",
       "        ></iframe>\n",
       "        "
      ],
      "text/plain": [
       "<IPython.lib.display.IFrame at 0x1f939a37110>"
      ]
     },
     "execution_count": 59,
     "metadata": {},
     "output_type": "execute_result"
    }
   ],
   "source": [
    "track_id = \"2vTjXsdRHEbTdT9HgeA2nv\"\n",
    "embed_url = f\"https://open.spotify.com/embed/track/{track_id}\"\n",
    "\n",
    "IFrame(src=embed_url, width=300, height=80)"
   ]
  },
  {
   "cell_type": "markdown",
   "metadata": {},
   "source": [
    "# Getting the Audio features of a song"
   ]
  },
  {
   "cell_type": "markdown",
   "metadata": {},
   "source": [
    "## Building a Data frame of audio features"
   ]
  },
  {
   "cell_type": "code",
   "execution_count": null,
   "metadata": {},
   "outputs": [
    {
     "name": "stderr",
     "output_type": "stream",
     "text": [
      "HTTP Error for GET to https://api.spotify.com/v1/audio-features/?ids=2vTjXsdRHEbTdT9HgeA2nv with Params: {} returned 403 due to None\n"
     ]
    },
    {
     "ename": "SpotifyException",
     "evalue": "http status: 403, code: -1 - https://api.spotify.com/v1/audio-features/?ids=2vTjXsdRHEbTdT9HgeA2nv:\n None, reason: None",
     "output_type": "error",
     "traceback": [
      "\u001b[31m---------------------------------------------------------------------------\u001b[39m",
      "\u001b[31mHTTPError\u001b[39m                                 Traceback (most recent call last)",
      "\u001b[36mFile \u001b[39m\u001b[32mc:\\Users\\bruno\\Desktop\\Ironhack\\labs\\.venv\\Lib\\site-packages\\spotipy\\client.py:274\u001b[39m, in \u001b[36mSpotify._internal_call\u001b[39m\u001b[34m(self, method, url, payload, params)\u001b[39m\n\u001b[32m    269\u001b[39m response = \u001b[38;5;28mself\u001b[39m._session.request(\n\u001b[32m    270\u001b[39m     method, url, headers=headers, proxies=\u001b[38;5;28mself\u001b[39m.proxies,\n\u001b[32m    271\u001b[39m     timeout=\u001b[38;5;28mself\u001b[39m.requests_timeout, **args\n\u001b[32m    272\u001b[39m )\n\u001b[32m--> \u001b[39m\u001b[32m274\u001b[39m \u001b[43mresponse\u001b[49m\u001b[43m.\u001b[49m\u001b[43mraise_for_status\u001b[49m\u001b[43m(\u001b[49m\u001b[43m)\u001b[49m\n\u001b[32m    275\u001b[39m results = response.json()\n",
      "\u001b[36mFile \u001b[39m\u001b[32mc:\\Users\\bruno\\Desktop\\Ironhack\\labs\\.venv\\Lib\\site-packages\\requests\\models.py:1026\u001b[39m, in \u001b[36mResponse.raise_for_status\u001b[39m\u001b[34m(self)\u001b[39m\n\u001b[32m   1025\u001b[39m \u001b[38;5;28;01mif\u001b[39;00m http_error_msg:\n\u001b[32m-> \u001b[39m\u001b[32m1026\u001b[39m     \u001b[38;5;28;01mraise\u001b[39;00m HTTPError(http_error_msg, response=\u001b[38;5;28mself\u001b[39m)\n",
      "\u001b[31mHTTPError\u001b[39m: 403 Client Error: Forbidden for url: https://api.spotify.com/v1/audio-features/?ids=2vTjXsdRHEbTdT9HgeA2nv",
      "\nDuring handling of the above exception, another exception occurred:\n",
      "\u001b[31mSpotifyException\u001b[39m                          Traceback (most recent call last)",
      "\u001b[36mCell\u001b[39m\u001b[36m \u001b[39m\u001b[32mIn[58]\u001b[39m\u001b[32m, line 4\u001b[39m\n\u001b[32m      1\u001b[39m track_id = \u001b[33m\"\u001b[39m\u001b[33m2vTjXsdRHEbTdT9HgeA2nv\u001b[39m\u001b[33m\"\u001b[39m\n\u001b[32m      3\u001b[39m \u001b[38;5;66;03m# Get audio features\u001b[39;00m\n\u001b[32m----> \u001b[39m\u001b[32m4\u001b[39m features = \u001b[43msp\u001b[49m\u001b[43m.\u001b[49m\u001b[43maudio_features\u001b[49m\u001b[43m(\u001b[49m\u001b[43m[\u001b[49m\u001b[43mtrack_id\u001b[49m\u001b[43m]\u001b[49m\u001b[43m)\u001b[49m[\u001b[32m0\u001b[39m]\n\u001b[32m      6\u001b[39m \u001b[38;5;66;03m# Create DataFrame\u001b[39;00m\n\u001b[32m      7\u001b[39m df = pd.DataFrame([features])\n",
      "\u001b[36mFile \u001b[39m\u001b[32mc:\\Users\\bruno\\Desktop\\Ironhack\\labs\\.venv\\Lib\\site-packages\\spotipy\\client.py:1802\u001b[39m, in \u001b[36mSpotify.audio_features\u001b[39m\u001b[34m(self, tracks)\u001b[39m\n\u001b[32m   1800\u001b[39m \u001b[38;5;28;01melse\u001b[39;00m:\n\u001b[32m   1801\u001b[39m     tlist = [\u001b[38;5;28mself\u001b[39m._get_id(\u001b[33m\"\u001b[39m\u001b[33mtrack\u001b[39m\u001b[33m\"\u001b[39m, t) \u001b[38;5;28;01mfor\u001b[39;00m t \u001b[38;5;129;01min\u001b[39;00m tracks]\n\u001b[32m-> \u001b[39m\u001b[32m1802\u001b[39m     results = \u001b[38;5;28;43mself\u001b[39;49m\u001b[43m.\u001b[49m\u001b[43m_get\u001b[49m\u001b[43m(\u001b[49m\u001b[33;43m\"\u001b[39;49m\u001b[33;43maudio-features/?ids=\u001b[39;49m\u001b[33;43m\"\u001b[39;49m\u001b[43m \u001b[49m\u001b[43m+\u001b[49m\u001b[43m \u001b[49m\u001b[33;43m\"\u001b[39;49m\u001b[33;43m,\u001b[39;49m\u001b[33;43m\"\u001b[39;49m\u001b[43m.\u001b[49m\u001b[43mjoin\u001b[49m\u001b[43m(\u001b[49m\u001b[43mtlist\u001b[49m\u001b[43m)\u001b[49m\u001b[43m)\u001b[49m\n\u001b[32m   1803\u001b[39m \u001b[38;5;66;03m# the response has changed, look for the new style first, and if\u001b[39;00m\n\u001b[32m   1804\u001b[39m \u001b[38;5;66;03m# it's not there, fallback on the old style\u001b[39;00m\n\u001b[32m   1805\u001b[39m \u001b[38;5;28;01mif\u001b[39;00m \u001b[33m\"\u001b[39m\u001b[33maudio_features\u001b[39m\u001b[33m\"\u001b[39m \u001b[38;5;129;01min\u001b[39;00m results:\n",
      "\u001b[36mFile \u001b[39m\u001b[32mc:\\Users\\bruno\\Desktop\\Ironhack\\labs\\.venv\\Lib\\site-packages\\spotipy\\client.py:324\u001b[39m, in \u001b[36mSpotify._get\u001b[39m\u001b[34m(self, url, args, payload, **kwargs)\u001b[39m\n\u001b[32m    321\u001b[39m \u001b[38;5;28;01mif\u001b[39;00m args:\n\u001b[32m    322\u001b[39m     kwargs.update(args)\n\u001b[32m--> \u001b[39m\u001b[32m324\u001b[39m \u001b[38;5;28;01mreturn\u001b[39;00m \u001b[38;5;28;43mself\u001b[39;49m\u001b[43m.\u001b[49m\u001b[43m_internal_call\u001b[49m\u001b[43m(\u001b[49m\u001b[33;43m\"\u001b[39;49m\u001b[33;43mGET\u001b[39;49m\u001b[33;43m\"\u001b[39;49m\u001b[43m,\u001b[49m\u001b[43m \u001b[49m\u001b[43murl\u001b[49m\u001b[43m,\u001b[49m\u001b[43m \u001b[49m\u001b[43mpayload\u001b[49m\u001b[43m,\u001b[49m\u001b[43m \u001b[49m\u001b[43mkwargs\u001b[49m\u001b[43m)\u001b[49m\n",
      "\u001b[36mFile \u001b[39m\u001b[32mc:\\Users\\bruno\\Desktop\\Ironhack\\labs\\.venv\\Lib\\site-packages\\spotipy\\client.py:294\u001b[39m, in \u001b[36mSpotify._internal_call\u001b[39m\u001b[34m(self, method, url, payload, params)\u001b[39m\n\u001b[32m    289\u001b[39m         reason = \u001b[38;5;28;01mNone\u001b[39;00m\n\u001b[32m    291\u001b[39m     logger.error(\u001b[33mf\u001b[39m\u001b[33m\"\u001b[39m\u001b[33mHTTP Error for \u001b[39m\u001b[38;5;132;01m{\u001b[39;00mmethod\u001b[38;5;132;01m}\u001b[39;00m\u001b[33m to \u001b[39m\u001b[38;5;132;01m{\u001b[39;00murl\u001b[38;5;132;01m}\u001b[39;00m\u001b[33m with Params: \u001b[39m\u001b[33m\"\u001b[39m\n\u001b[32m    292\u001b[39m                  \u001b[33mf\u001b[39m\u001b[33m\"\u001b[39m\u001b[38;5;132;01m{\u001b[39;00margs.get(\u001b[33m'\u001b[39m\u001b[33mparams\u001b[39m\u001b[33m'\u001b[39m)\u001b[38;5;132;01m}\u001b[39;00m\u001b[33m returned \u001b[39m\u001b[38;5;132;01m{\u001b[39;00mresponse.status_code\u001b[38;5;132;01m}\u001b[39;00m\u001b[33m due to \u001b[39m\u001b[38;5;132;01m{\u001b[39;00mmsg\u001b[38;5;132;01m}\u001b[39;00m\u001b[33m\"\u001b[39m)\n\u001b[32m--> \u001b[39m\u001b[32m294\u001b[39m     \u001b[38;5;28;01mraise\u001b[39;00m SpotifyException(\n\u001b[32m    295\u001b[39m         response.status_code,\n\u001b[32m    296\u001b[39m         -\u001b[32m1\u001b[39m,\n\u001b[32m    297\u001b[39m         \u001b[33mf\u001b[39m\u001b[33m\"\u001b[39m\u001b[38;5;132;01m{\u001b[39;00mresponse.url\u001b[38;5;132;01m}\u001b[39;00m\u001b[33m:\u001b[39m\u001b[38;5;130;01m\\n\u001b[39;00m\u001b[33m \u001b[39m\u001b[38;5;132;01m{\u001b[39;00mmsg\u001b[38;5;132;01m}\u001b[39;00m\u001b[33m\"\u001b[39m,\n\u001b[32m    298\u001b[39m         reason=reason,\n\u001b[32m    299\u001b[39m         headers=response.headers,\n\u001b[32m    300\u001b[39m     )\n\u001b[32m    301\u001b[39m \u001b[38;5;28;01mexcept\u001b[39;00m requests.exceptions.RetryError \u001b[38;5;28;01mas\u001b[39;00m retry_error:\n\u001b[32m    302\u001b[39m     request = retry_error.request\n",
      "\u001b[31mSpotifyException\u001b[39m: http status: 403, code: -1 - https://api.spotify.com/v1/audio-features/?ids=2vTjXsdRHEbTdT9HgeA2nv:\n None, reason: None"
     ]
    }
   ],
   "source": [
    "track_id = \"2vTjXsdRHEbTdT9HgeA2nv\"\n",
    "\n",
    "# Get audio features\n",
    "features = sp.audio_features([track_id])[0]\n",
    "\n",
    "# Create DataFrame\n",
    "df = pd.DataFrame([features])\n",
    "\n",
    "# Select relevant columns (optional)\n",
    "columns_of_interest = [\n",
    "    'danceability', 'energy', 'key', 'loudness', 'mode', 'speechiness',\n",
    "    'acousticness', 'instrumentalness', 'liveness', 'valence', 'tempo'\n",
    "]\n",
    "df = df[columns_of_interest]\n",
    "\n",
    "print(df)"
   ]
  },
  {
   "cell_type": "markdown",
   "metadata": {
    "id": "ZdgnthLDIDUz"
   },
   "source": [
    "## Searching a playlist"
   ]
  },
  {
   "cell_type": "code",
   "execution_count": null,
   "metadata": {
    "colab": {
     "base_uri": "https://localhost:8080/"
    },
    "executionInfo": {
     "elapsed": 4,
     "status": "ok",
     "timestamp": 1623748576469,
     "user": {
      "displayName": "Ignacio Soteras",
      "photoUrl": "",
      "userId": "02050793736257155229"
     },
     "user_tz": -120
    },
    "id": "hEmemxE9oDwa",
    "outputId": "fb5cd5d8-df90-45b9-e083-0fc52307b408"
   },
   "outputs": [
    {
     "name": "stdout",
     "output_type": "stream",
     "text": [
      "2. dream pop essentials  - 1h2DhdUSo7lNswx4D224AR\n",
      "   Owner: bxn_kane\n",
      "   URL: https://open.spotify.com/playlist/1h2DhdUSo7lNswx4D224AR\n",
      "4. 80s DARK WAVE - 2OKRPDYytFbe5FmPlwqPmP\n",
      "   Owner: Keef4Teef\n",
      "   URL: https://open.spotify.com/playlist/2OKRPDYytFbe5FmPlwqPmP\n",
      "5. 2000s 💋💗 - 2BDxSjCOejZv21uXdIJpME\n",
      "   Owner: sam ⁺‧₊˚ ཐི⋆♱⋆ཋྀ ˚₊‧⁺\n",
      "   URL: https://open.spotify.com/playlist/2BDxSjCOejZv21uXdIJpME\n"
     ]
    }
   ],
   "source": [
    "results = sp.search(q=\"dream pop\", type=\"playlist\", limit=5)\n",
    "\n",
    "# Print the name and ID of the first few playlists\n",
    "for idx, item in enumerate(results['playlists']['items']):\n",
    "    if not item or 'name' not in item or 'id' not in item:\n",
    "        continue\n",
    "    print(f\"{idx+1}. {item['name']} - {item['id']}\")\n",
    "    print(f\"   Owner: {item['owner'].get('display_name', 'N/A')}\")\n",
    "    print(f\"   URL: {item['external_urls']['spotify']}\")"
   ]
  },
  {
   "cell_type": "markdown",
   "metadata": {},
   "source": [
    "## Extracting a song from playlist"
   ]
  },
  {
   "cell_type": "code",
   "execution_count": null,
   "metadata": {
    "colab": {
     "base_uri": "https://localhost:8080/"
    },
    "executionInfo": {
     "elapsed": 363,
     "status": "ok",
     "timestamp": 1623748609799,
     "user": {
      "displayName": "Ignacio Soteras",
      "photoUrl": "",
      "userId": "02050793736257155229"
     },
     "user_tz": -120
    },
    "id": "wG-PfUCEIKvy",
    "outputId": "2c5135b8-7fa6-4f4f-c4d9-a35ed4f949d0"
   },
   "outputs": [
    {
     "name": "stdout",
     "output_type": "stream",
     "text": [
      "Song name: Heaven or Las Vegas\n",
      "Artist: Cocteau Twins\n",
      "Track ID: 0AxZUYeQ9bZwSdt1LmZuok\n",
      "Album: Heaven or Las Vegas\n",
      "Preview URL: None\n"
     ]
    }
   ],
   "source": [
    "playlist_id = \"1h2DhdUSo7lNswx4D224AR\"  # \"Today's Top Hits\"\n",
    "\n",
    "# Get the playlist's tracks (first 100 - you can paginate for more)\n",
    "results = sp.playlist_tracks(playlist_id, limit=100)\n",
    "\n",
    "# Extract the first song \n",
    "first_track = results['items'][0]['track']\n",
    "\n",
    "# Print song details\n",
    "print(\"Song name:\", first_track['name'])\n",
    "print(\"Artist:\", first_track['artists'][0]['name'])\n",
    "print(\"Track ID:\", first_track['id'])\n",
    "print(\"Album:\", first_track['album']['name'])\n",
    "print(\"Preview URL:\", first_track['preview_url'])"
   ]
  },
  {
   "cell_type": "markdown",
   "metadata": {
    "id": "8gIIuaAAIhQi"
   },
   "source": [
    "## Extracting the songs of a playlist"
   ]
  },
  {
   "cell_type": "markdown",
   "metadata": {
    "id": "vmwZa11wjBM6"
   },
   "source": [
    "Pagination using \"next\".\n",
    "When you collect songs from a playlist using sp.playlist_tracks, you're limited by the limit parameter, which has a maximum (and default) value of 100. When the playlist has more than 100 songs, you have to collect them by navigating through the \"pages\" of the results.\n",
    "\n",
    "The parameter offset allows you to retrieve resuls starting at a certain position: if you start at position 101, you'd get the next \"page\" of results. An offset of 201 would give you the third page, and so on.\n",
    "\n",
    "The function sp.next() does the same, but in a simpler way: it can be used on the results from any request to directly retrieve the results for the next page.\n",
    "\n",
    "We can check whether there's a next page or not by accessing the key next on the results from any request."
   ]
  },
  {
   "cell_type": "code",
   "execution_count": null,
   "metadata": {},
   "outputs": [
    {
     "name": "stdout",
     "output_type": "stream",
     "text": [
      "1. Heaven or Las Vegas - Cocteau Twins\n",
      "2. Falling - Julee Cruise\n",
      "3. Fade Into You - Mazzy Star\n",
      "4. Starlust - Lush\n",
      "5. Goodbye - The Sundays\n",
      "6. Song To The Siren - Remastered - This Mortal Coil\n",
      "7. Please, Please, Please, Let Me Get What I Want - 2011 Remaster - The Smiths\n",
      "8. Andromeda - Weyes Blood\n",
      "9. Floating - Julee Cruise\n",
      "10. Here's Where the Story Ends - The Sundays\n",
      "11. Light From A Dead Star - Lush\n",
      "12. Levitation - Beach House\n",
      "13. Iceblink Luck - Cocteau Twins\n",
      "14. On Earth - The Sundays\n",
      "15. How Soon Is Now? - 2011 Remaster - The Smiths\n",
      "16. Cherry-coloured Funk - Cocteau Twins\n",
      "17. Bluebeard - Cocteau Twins\n",
      "18. Space Song - Beach House\n",
      "19. Used to Be - Beach House\n",
      "20. Myth - Beach House\n",
      "21. Frou-frou Foxes in Midsummer Fires - Cocteau Twins\n",
      "22. Pur - Cocteau Twins\n",
      "23. Fond Affections - Remastered - This Mortal Coil\n",
      "24. Wild - Beach House\n",
      "25. Pearly-Dewdrops' Drops - 7\" Version - Cocteau Twins\n",
      "26. Silver Soul - Beach House\n",
      "27. Lorelei - Cocteau Twins\n",
      "28. Lovelife - Lush\n",
      "29. Contender - The Pains Of Being Pure At Heart\n",
      "30. PPP - Beach House\n",
      "31. Sugar Hiccup - Cocteau Twins\n",
      "32. A Teenager in Love - The Pains Of Being Pure At Heart\n",
      "33. Kinky Love - Pale Saints\n",
      "34. Lazuli - Beach House\n",
      "35. Blue Light - Mazzy Star\n",
      "36. Desire Lines - Lush\n",
      "37. Dreams - The Cranberries\n",
      "38. Into the Night - Julee Cruise\n",
      "39. Young Adult Friction - The Pains Of Being Pure At Heart\n",
      "40. Kangaroo - Remastered - This Mortal Coil\n",
      "41. Ivo - Cocteau Twins\n",
      "42. Other People - Beach House\n",
      "43. Zebra - Beach House\n",
      "44. Sea, Swallow Me - Cocteau Twins\n",
      "45. Come To Me - Björk\n",
      "46. For Love - Lush\n",
      "47. The Nightingale - Julee Cruise\n",
      "48. Love - The Sundays\n",
      "49. Sunday - The Cranberries\n",
      "50. Fine Friend - Pale Saints\n",
      "51. Say Yes To Heaven - Lana Del Rey\n",
      "52. I'm Not In Love - Kelsey Lu\n",
      "53. グライド - Lily Chou-Chou\n",
      "54. Thursday - Asobi Seksu\n",
      "55. Insubstantial - Pale Saints\n"
     ]
    }
   ],
   "source": [
    "playlist_id = \"1h2DhdUSo7lNswx4D224AR\"\n",
    "\n",
    "songs = []\n",
    "results = sp.playlist_tracks(playlist_id, limit=100)\n",
    "while results:\n",
    "    for item in results['items']:\n",
    "        track = item['track']\n",
    "        if track:  # Check for None\n",
    "            name = track['name']\n",
    "            artist = track['artists'][0]['name']\n",
    "            songs.append({'name': name, 'artist': artist})\n",
    "    # Pagination for playlists with more than 100 tracks\n",
    "    if results['next']:\n",
    "        results = sp.next(results)\n",
    "    else:\n",
    "        results = None\n",
    "\n",
    "for idx, song in enumerate(songs, 1):\n",
    "    print(f\"{idx}. {song['name']} - {song['artist']}\")"
   ]
  },
  {
   "cell_type": "markdown",
   "metadata": {},
   "source": [
    "### Chopping a big playlist into chunks"
   ]
  },
  {
   "cell_type": "code",
   "execution_count": null,
   "metadata": {},
   "outputs": [
    {
     "name": "stdout",
     "output_type": "stream",
     "text": [
      "1. Heaven or Las Vegas - Cocteau Twins (ID: 0AxZUYeQ9bZwSdt1LmZuok)\n",
      "2. Falling - Julee Cruise (ID: 31CYUJj5f9lbQ0Qqm9PzK5)\n",
      "3. Fade Into You - Mazzy Star (ID: 1LzNfuep1bnAUR9skqdHCK)\n",
      "4. Starlust - Lush (ID: 3ZOMVzyjvE8kJouhVScrqg)\n",
      "5. Goodbye - The Sundays (ID: 44L6RNTBjYRshdzeqd2d3S)\n",
      "6. Song To The Siren - Remastered - This Mortal Coil (ID: 26uVYNtKahTAcZMDWiuBnt)\n",
      "7. Please, Please, Please, Let Me Get What I Want - 2011 Remaster - The Smiths (ID: 6BrMEbPSSj55nQhkgf6DnE)\n",
      "8. Andromeda - Weyes Blood (ID: 51EMSRpNm9Rg5rGViVCczv)\n",
      "9. Floating - Julee Cruise (ID: 55Wm3y6wUy5xS1thd0Zial)\n",
      "10. Here's Where the Story Ends - The Sundays (ID: 5gSHlT2SI0dtjeHrjj96A1)\n"
     ]
    }
   ],
   "source": [
    "playlist_id = \"1h2DhdUSo7lNswx4D224AR\"\n",
    "def chunk_list(lst, chunk_size):\n",
    "    \"\"\"Split a list into chunks of size chunk_size.\"\"\"\n",
    "    return [lst[i:i + chunk_size] for i in range(0, len(lst), chunk_size)]\n",
    "\n",
    "# Get all tracks from the playlist\n",
    "tracks = []\n",
    "results = sp.playlist_tracks(playlist_id, limit=100)\n",
    "while results:\n",
    "    for item in results['items']:\n",
    "        track = item['track']\n",
    "        if track:\n",
    "            tracks.append({\n",
    "                'name': track['name'],\n",
    "                'artist': track['artists'][0]['name'],\n",
    "                'id': track['id']\n",
    "            })\n",
    "    if results['next']:\n",
    "        results = sp.next(results)\n",
    "    else:\n",
    "        results = None\n",
    "\n",
    "# Chunk the track list (e.g., 10 tracks per chunk)\n",
    "chunk_size = 10\n",
    "track_chunks = chunk_list(tracks, chunk_size)\n",
    "\n",
    "# Example: print the first chunk\n",
    "for idx, track in enumerate(track_chunks[0], 1):\n",
    "    print(f\"{idx}. {track['name']} - {track['artist']} (ID: {track['id']})\")"
   ]
  },
  {
   "cell_type": "markdown",
   "metadata": {},
   "source": [
    "## Optional(Extra)"
   ]
  },
  {
   "cell_type": "markdown",
   "metadata": {
    "id": "0tlqOKWCJDq1"
   },
   "source": [
    "## Getting the artists of the playlist "
   ]
  },
  {
   "cell_type": "code",
   "execution_count": null,
   "metadata": {
    "colab": {
     "base_uri": "https://localhost:8080/"
    },
    "executionInfo": {
     "elapsed": 8072,
     "status": "ok",
     "timestamp": 1623749004146,
     "user": {
      "displayName": "Ignacio Soteras",
      "photoUrl": "",
      "userId": "02050793736257155229"
     },
     "user_tz": -120
    },
    "id": "vMADuNRjCzYW",
    "outputId": "8ed416b0-c989-440f-a7b2-a51ea90177d9"
   },
   "outputs": [
    {
     "name": "stdout",
     "output_type": "stream",
     "text": [
      "Asobi Seksu\n",
      "Beach House\n",
      "Björk\n",
      "Cocteau Twins\n",
      "Harold Budd\n",
      "Julee Cruise\n",
      "Kelsey Lu\n",
      "Lana Del Rey\n",
      "Lily Chou-Chou\n",
      "Lush\n",
      "Mazzy Star\n",
      "Pale Saints\n",
      "The Cranberries\n",
      "The Pains Of Being Pure At Heart\n",
      "The Smiths\n",
      "The Sundays\n",
      "This Mortal Coil\n",
      "Weyes Blood\n"
     ]
    }
   ],
   "source": [
    "playlist_id = \"1h2DhdUSo7lNswx4D224AR\"\n",
    "\n",
    "artists = set()\n",
    "results = sp.playlist_tracks(playlist_id, limit=100)\n",
    "while results:\n",
    "    for item in results['items']:\n",
    "        track = item['track']\n",
    "        if track and track['artists']:\n",
    "            for artist in track['artists']:\n",
    "                artists.add(artist['name'])\n",
    "    if results['next']:\n",
    "        results = sp.next(results)\n",
    "    else:\n",
    "        results = None\n",
    "\n",
    "# Print the unique artists\n",
    "for artist in sorted(artists):\n",
    "    print(artist)"
   ]
  },
  {
   "cell_type": "markdown",
   "metadata": {
    "id": "MBq_6MslLqN1"
   },
   "source": [
    "# Getting albums "
   ]
  },
  {
   "cell_type": "markdown",
   "metadata": {
    "id": "flAFNc16L7UA"
   },
   "source": [
    "In this section we will work with albums to extract information. We will start by extracting all the albums of an artist."
   ]
  },
  {
   "cell_type": "code",
   "execution_count": null,
   "metadata": {
    "executionInfo": {
     "elapsed": 338,
     "status": "ok",
     "timestamp": 1623749616116,
     "user": {
      "displayName": "Ignacio Soteras",
      "photoUrl": "",
      "userId": "02050793736257155229"
     },
     "user_tz": -120
    },
    "id": "aYMfWpqSL8cv"
   },
   "outputs": [
    {
     "name": "stdout",
     "output_type": "stream",
     "text": [
      "Blind - The Sundays\n",
      "Blood - Kelsey Lu\n",
      "Bloom - Beach House\n",
      "Citrus - Asobi Seksu\n",
      "Debut - Björk\n",
      "Depression Cherry - Beach House\n",
      "Everybody Else Is Doing It, So Why Can't We? - The Cranberries\n",
      "Flesh Balloon - Pale Saints\n",
      "Floating Into The Night - Julee Cruise\n",
      "Four-Calendar Cafe - Cocteau Twins\n",
      "Hatful of Hollow - The Smiths\n",
      "Head Over Heels - Cocteau Twins\n",
      "Heaven or Las Vegas - Cocteau Twins\n",
      "It'll End In Tears (Remastered) - This Mortal Coil\n",
      "Reading Writing And Arithmetic - The Sundays\n",
      "Say Yes To Heaven - Lana Del Rey\n",
      "Slow Buildings - Pale Saints\n",
      "So Tonight That I Might See - Mazzy Star\n",
      "Split - Lush\n",
      "Spooky - Lush\n",
      "Teen Dream - Beach House\n",
      "The Comforts of Madness - Pale Saints\n",
      "The Moon and the Melodies - Cocteau Twins\n",
      "The Pains of Being Pure at Heart - The Pains Of Being Pure At Heart\n",
      "The Pink Opaque - Cocteau Twins\n",
      "Titanic Rising - Weyes Blood\n",
      "Treasure - Cocteau Twins\n",
      "呼吸 - Lily Chou-Chou\n"
     ]
    }
   ],
   "source": [
    "playlist_id = \"1h2DhdUSo7lNswx4D224AR\"\n",
    "\n",
    "albums = set()\n",
    "results = sp.playlist_tracks(playlist_id, limit=100)\n",
    "while results:\n",
    "    for item in results['items']:\n",
    "        track = item['track']\n",
    "        if track and track['album']:\n",
    "            album_name = track['album']['name']\n",
    "            artist_name = track['album']['artists'][0]['name']\n",
    "            albums.add((album_name, artist_name))\n",
    "    if results['next']:\n",
    "        results = sp.next(results)\n",
    "    else:\n",
    "        results = None\n",
    "\n",
    "# Print unique albums and their main artist\n",
    "for album, artist in sorted(albums):\n",
    "    print(f\"{album} - {artist}\")"
   ]
  },
  {
   "cell_type": "markdown",
   "metadata": {
    "id": "ljaglNRvMTL5"
   },
   "source": [
    "## Getting the songs of a given album"
   ]
  },
  {
   "cell_type": "code",
   "execution_count": null,
   "metadata": {
    "colab": {
     "base_uri": "https://localhost:8080/"
    },
    "executionInfo": {
     "elapsed": 48724,
     "status": "ok",
     "timestamp": 1623749793320,
     "user": {
      "displayName": "Ignacio Soteras",
      "photoUrl": "",
      "userId": "02050793736257155229"
     },
     "user_tz": -120
    },
    "id": "WzZLGfwlMd2C",
    "outputId": "044a9334-ee0d-4a82-c8d4-577874c47d80"
   },
   "outputs": [
    {
     "name": "stdout",
     "output_type": "stream",
     "text": [
      "Song: Heaven or Las Vegas\n",
      "Artist: Cocteau Twins\n",
      "Album: Heaven or Las Vegas\n",
      "Track ID: 0AxZUYeQ9bZwSdt1LmZuok\n"
     ]
    }
   ],
   "source": [
    "playlist_id = \"1h2DhdUSo7lNswx4D224AR\"\n",
    "target_album = \"Heaven or Las Vegas\"\n",
    "\n",
    "# Fetch all tracks in the playlist\n",
    "results = sp.playlist_tracks(playlist_id, limit=100)\n",
    "song_found = False\n",
    "while results and not song_found:\n",
    "    for item in results['items']:\n",
    "        track = item['track']\n",
    "        if track and track['album']:\n",
    "            album_name = track['album']['name']\n",
    "            if album_name.lower() == target_album.lower():\n",
    "                print(f\"Song: {track['name']}\")\n",
    "                print(f\"Artist: {track['artists'][0]['name']}\")\n",
    "                print(f\"Album: {album_name}\")\n",
    "                print(f\"Track ID: {track['id']}\")\n",
    "                song_found = True\n",
    "                break\n",
    "    if not song_found and results['next']:\n",
    "        results = sp.next(results)\n",
    "    else:\n",
    "        break\n",
    "\n",
    "if not song_found:\n",
    "    print(f\"No song from the album '{target_album}' found in the playlist.\")"
   ]
  }
 ],
 "metadata": {
  "colab": {
   "authorship_tag": "ABX9TyPVWC1t3Am5oxfsHrz0cF36",
   "mount_file_id": "1f3HsS5F0GzS75tlHyrwhBGlTWbE0nG4o",
   "name": "Code_along_Spotify_structure.ipynb",
   "provenance": []
  },
  "kernelspec": {
   "display_name": ".venv",
   "language": "python",
   "name": "python3"
  },
  "language_info": {
   "codemirror_mode": {
    "name": "ipython",
    "version": 3
   },
   "file_extension": ".py",
   "mimetype": "text/x-python",
   "name": "python",
   "nbconvert_exporter": "python",
   "pygments_lexer": "ipython3",
   "version": "3.13.3"
  },
  "toc": {
   "base_numbering": 1,
   "nav_menu": {},
   "number_sections": true,
   "sideBar": true,
   "skip_h1_title": false,
   "title_cell": "Table of Contents",
   "title_sidebar": "Contents",
   "toc_cell": false,
   "toc_position": {},
   "toc_section_display": true,
   "toc_window_display": false
  },
  "varInspector": {
   "cols": {
    "lenName": 16,
    "lenType": 16,
    "lenVar": 40
   },
   "kernels_config": {
    "python": {
     "delete_cmd_postfix": "",
     "delete_cmd_prefix": "del ",
     "library": "var_list.py",
     "varRefreshCmd": "print(var_dic_list())"
    },
    "r": {
     "delete_cmd_postfix": ") ",
     "delete_cmd_prefix": "rm(",
     "library": "var_list.r",
     "varRefreshCmd": "cat(var_dic_list()) "
    }
   },
   "types_to_exclude": [
    "module",
    "function",
    "builtin_function_or_method",
    "instance",
    "_Feature"
   ],
   "window_display": false
  }
 },
 "nbformat": 4,
 "nbformat_minor": 1
}
